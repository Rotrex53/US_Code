{
 "cells": [
  {
   "cell_type": "markdown",
   "id": "0a09ba2b",
   "metadata": {},
   "source": [
    "## 1. Lectura y Parseo de Datos (1-1.5 pts)\n",
    "Ejemplos:\n",
    "\n",
    "    lee_viviendas, lee_carreras, lee_suscripciones.\n",
    "    Habilidades:\n",
    "\n",
    "    Uso de csv.reader y manejo de archivos CSV.\n",
    "\n",
    "    Parseo de fechas (datetime.strptime), números, y listas anidadas (ej: addons o mejoras).\n",
    "\n",
    "    Creación de NamedTuple para estructurar datos.\n",
    "    Clave:"
   ]
  },
  {
   "cell_type": "code",
   "execution_count": 1,
   "id": "39f647e7",
   "metadata": {},
   "outputs": [],
   "source": [
    "def parsea_addons(addons_str: str) -> list[str]:\n",
    "    return addons_str.split(\",\") if addons_str else []"
   ]
  },
  {
   "cell_type": "markdown",
   "id": "49fc88f3",
   "metadata": {},
   "source": [
    "## 2. Filtrado y Agrupación Básica (1-1.5 pts)\n",
    "\n",
    "Ejemplos:\n",
    "\n",
    "    total_mejoras_por_calle, suscripciones_mas_rentables (filtro por tipos_plan).\n",
    "    Habilidades:\n",
    "\n",
    "    Filtrado con if y comprensiones de listas.\n",
    "\n",
    "    Agrupación con defaultdict o Counter.\n",
    "    Clave:"
   ]
  },
  {
   "cell_type": "code",
   "execution_count": 3,
   "id": "62088f54",
   "metadata": {},
   "outputs": [],
   "source": [
    "# Ejemplo: Agrupar suscripciones por tipo de plan\n",
    "from collections import defaultdict\n",
    "def funcion(suscripciones: list):\n",
    "    grupo = defaultdict(list)\n",
    "    for s in suscripciones:\n",
    "        grupo[s.tipo_plan].append(s)"
   ]
  },
  {
   "cell_type": "markdown",
   "id": "9300a12c",
   "metadata": {},
   "source": [
    "## 3. Cálculos sobre Datos Agrupados (1.5-2 pts)\n",
    "\n",
    "Ejemplos:\n",
    "\n",
    "    media_dias_por_plan, valor_metro_cuadrado_por_calle_y_año.\n",
    "    Habilidades:\n",
    "\n",
    "    Operaciones matemáticas (sum, len, abs) sobre grupos.\n",
    "\n",
    "    Uso de zip para combinar datos.\n",
    "    Clave:"
   ]
  },
  {
   "cell_type": "code",
   "execution_count": null,
   "id": "476393c5",
   "metadata": {},
   "outputs": [],
   "source": [
    "# Ejemplo: Calcular media de días por plan\n",
    "def funcion(grupo: list):\n",
    "    media = {plan: sum((s.fecha_fin - s.fecha_inicio).days for s in grupo[plan]) / len(grupo[plan]) \n",
    "         for plan in grupo if s.fecha_fin is not None}"
   ]
  },
  {
   "cell_type": "markdown",
   "id": "3c8d49b0",
   "metadata": {},
   "source": [
    "## 4. Estadísticas con Condiciones (1.5-2 pts)\n",
    "\n",
    "Ejemplos:\n",
    "\n",
    "    plan_mas_perfiles (filtro por rango de fechas), maximo_dias_sin_ganar.\n",
    "    Habilidades:\n",
    "\n",
    "    Manejo de fechas (date) y condiciones compuestas (fecha_ini <= x <= fecha_fin).\n",
    "\n",
    "    Uso de max/min con key=lambda.\n",
    "    Clave:"
   ]
  },
  {
   "cell_type": "code",
   "execution_count": 5,
   "id": "ce136799",
   "metadata": {},
   "outputs": [],
   "source": [
    "# Ejemplo: Plan con más perfiles en un rango de fechas\n",
    "from typing import Counter\n",
    "from datetime import date\n",
    "\n",
    "def funcion(suscripciones:list, fecha_ini:date, fecha_fin:date):\n",
    "    filtradas = [s for s in suscripciones if fecha_ini <= s.fecha_inicio <= fecha_fin]\n",
    "    contador = Counter(s.tipo_plan for s in filtradas)\n",
    "    plan_mas_comun = contador.most_common(1)[0][0]"
   ]
  },
  {
   "cell_type": "markdown",
   "id": "59955349",
   "metadata": {},
   "source": [
    "## 5. Análisis Temporal y Secuencias (2 pts)\n",
    "\n",
    "Ejemplos:\n",
    "\n",
    "    evolucion_años, piloto_racha_mas_larga_victorias_consecutivas.\n",
    "    Habilidades:\n",
    "\n",
    "    Agrupación por año/mes (s.fecha_inicio.year).\n",
    "\n",
    "    Cálculo de diferencias temporales ((fecha_fin - fecha_inicio).days).\n",
    "\n",
    "    Identificación de secuencias (ej: victorias consecutivas).\n",
    "    Clave:"
   ]
  },
  {
   "cell_type": "code",
   "execution_count": 6,
   "id": "43438022",
   "metadata": {},
   "outputs": [],
   "source": [
    "# Ejemplo: Evolución anual de suscripciones\n",
    "def funcion(suscripciones: list):\n",
    "    años = sorted({s.fecha_inicio.year for s in suscripciones})\n",
    "    evolucion = [(año, sum(1 for s in suscripciones if s.fecha_inicio.year == año) - \n",
    "              sum(1 for s in suscripciones if s.fecha_fin and s.fecha_fin.year == año)) \n",
    "             for año in años]"
   ]
  },
  {
   "cell_type": "markdown",
   "id": "967b5a7e",
   "metadata": {},
   "source": [
    "## 6. Consultas Complejas con Ordenación (2 pts)\n",
    "\n",
    "Ejemplos:\n",
    "\n",
    "    n_viviendas_top_valoradas_por_calle, ultimos_ganadores_por_circuito.\n",
    "    Habilidades:\n",
    "\n",
    "    Ordenación con sorted(key=lambda) y slices ([:n]).\n",
    "\n",
    "    Filtrado por múltiples condiciones (ej: estado=\"Seco\").\n",
    "    Clave:"
   ]
  },
  {
   "cell_type": "code",
   "execution_count": null,
   "id": "6bf69ce2",
   "metadata": {},
   "outputs": [],
   "source": [
    "# Ejemplo: Top-N suscripciones más rentables\n",
    "def funcion(suscripciones: list, dias_suscripcion:int, n:int):\n",
    "    top_n = sorted([(s.dni, s.precio_mensual * dias_suscripcion / 30) \n",
    "                for s in suscripciones], \n",
    "               key=lambda x: x[1], reverse=True)[:n]"
   ]
  },
  {
   "cell_type": "markdown",
   "id": "9fc7c69e",
   "metadata": {},
   "source": [
    "## 7. Popularidad y Frecuencias (2 pts)\n",
    "\n",
    "Ejemplos:\n",
    "\n",
    "    addon_mas_popular_por_año, piloto_mas_podios_por_circuito.\n",
    "    Habilidades:\n",
    "\n",
    "    Uso de Counter para conteo de frecuencias.\n",
    "\n",
    "    Agrupación anidada (ej: addons por año).\n",
    "    Clave:"
   ]
  },
  {
   "cell_type": "code",
   "execution_count": 7,
   "id": "e5f184c4",
   "metadata": {},
   "outputs": [],
   "source": [
    "# Ejemplo: Addon más popular por año\n",
    "def funcion(suscripciones: list):\n",
    "    addons_por_año = defaultdict(Counter)\n",
    "    for s in suscripciones:\n",
    "        año = s.fecha_inicio.year\n",
    "        addons_por_año[año].update(s.addons)\n",
    "    resultado = {año: contador.most_common(1)[0][0] \n",
    "                for año, contador in addons_por_año.items()}"
   ]
  },
  {
   "cell_type": "markdown",
   "id": "7ca08e4c",
   "metadata": {},
   "source": [
    "# Resumen de Habilidades Clave\n",
    "\n",
    "Habilidad___________________________Funciones/Clases______________________________________________Ejemplo Típico_________________________\n",
    "\n",
    "Lectura de CSV:---------------------csv.reader, NamedTuple-----------------------------------------lee_suscripciones\n",
    "\n",
    "Filtrado y Agrupación:--------------defaultdict, Counter----------------------------------------------total_mejoras_por_calle\n",
    "\n",
    "Operaciones Matemáticas:---------sum, abs, len------------------------------------------------------media_dias_por_plan\n",
    "\n",
    "Manejo de Fechas:------------------datetime.strptime, timedelta-------------------------------------maximo_dias_sin_ganar\n",
    "\n",
    "Ordenación Avanzada:--------------sorted(key=lambda), reverse=True------------------------------n_viviendas_top_valoradas_por_calle\n",
    "\n",
    "Secuencias y Rachas:----------------Bucles con seguimiento de estado------------------------------piloto_racha_mas_larga_victorias"
   ]
  }
 ],
 "metadata": {
  "kernelspec": {
   "display_name": "Python 3",
   "language": "python",
   "name": "python3"
  },
  "language_info": {
   "codemirror_mode": {
    "name": "ipython",
    "version": 3
   },
   "file_extension": ".py",
   "mimetype": "text/x-python",
   "name": "python",
   "nbconvert_exporter": "python",
   "pygments_lexer": "ipython3",
   "version": "3.13.4"
  }
 },
 "nbformat": 4,
 "nbformat_minor": 5
}
